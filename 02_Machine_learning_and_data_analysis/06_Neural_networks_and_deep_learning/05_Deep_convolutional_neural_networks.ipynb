{
 "cells": [
  {
   "cell_type": "code",
   "execution_count": 2,
   "id": "perfect-explanation",
   "metadata": {},
   "outputs": [],
   "source": [
    "import numpy as np\n",
    "import matplotlib.pyplot as plt\n",
    "from matplotlib import rcParams\n",
    "from scipy import io\n",
    "from keras.utils import to_categorical\n",
    "from keras.models import Sequential\n",
    "from keras.layers import Dense, Conv2D, Flatten, MaxPool2D\n",
    "from keras import optimizers\n",
    "\n",
    "\n",
    "rcParams.update({'font.size': 18})\n",
    "plt.rcParams['figure.figsize'] = [12, 12]"
   ]
  },
  {
   "cell_type": "code",
   "execution_count": 5,
   "id": "affected-asset",
   "metadata": {},
   "outputs": [
    {
     "data": {
      "image/png": "[encoded data removed]",
      "text/plain": [
       "<Figure size 864x864 with 20 Axes>"
      ]
     },
     "metadata": {
      "needs_background": "light"
     },
     "output_type": "display_data"
    }
   ],
   "source": [
    "letters_train_mat = io.loadmat('lettersTrainSet.mat')\n",
    "letters_test_mat = io.loadmat('lettersTestSet.mat')\n",
    "XTrain = letters_train_mat['XTrain']\n",
    "TTrain = letters_train_mat['TTrain_cell']\n",
    "XTest = letters_test_mat['XTest']\n",
    "TTest = letters_test_mat['TTest_cell']\n",
    "\n",
    "perm = np.random.permutation(1500)[:20]\n",
    "\n",
    "\n",
    "# By default, Keras expects data in form (batch, height, width, channels) \n",
    "XTrain = np.transpose(XTrain,axes=[3,0,1,2])\n",
    "XTest = np.transpose(XTest,axes=[3,0,1,2])\n",
    "\n",
    "\n",
    "\n",
    "fig,axs = plt.subplots(4,5)\n",
    "axs = axs.reshape(-1)\n",
    "\n",
    "for j in range(len(axs)):\n",
    "    axs[j].imshow(np.squeeze(XTrain[perm[j],:,:,:]),cmap='gray')\n",
    "    axs[j].axis('off')"
   ]
  },
  {
   "cell_type": "code",
   "execution_count": 6,
   "id": "gentle-wallace",
   "metadata": {},
   "outputs": [],
   "source": [
    "classes = np.unique(TTrain)\n",
    "y_train_label = np.zeros_like(TTrain)\n",
    "y_test_label = np.zeros_like(TTest)\n",
    "for nc in range(len(classes)):\n",
    "    y_train_label[TTrain == classes[nc]] = nc\n",
    "    y_test_label[TTest == classes[nc]] = nc\n",
    "\n",
    "y_train_label = y_train_label.reshape(-1)\n",
    "y_test_label = y_test_label.reshape(-1)\n",
    "    \n",
    "#one-hot encode categorical classes\n",
    "y_train = to_categorical(y_train_label)\n",
    "y_test = to_categorical(y_test_label)"
   ]
  },
  {
   "cell_type": "code",
   "execution_count": 7,
   "id": "positive-preparation",
   "metadata": {},
   "outputs": [
    {
     "name": "stdout",
     "output_type": "stream",
     "text": [
      "Epoch 1/30\n",
      "47/47 [==============================] - 0s 4ms/step - loss: 0.5271\n",
      "Epoch 2/30\n",
      "47/47 [==============================] - 0s 4ms/step - loss: 0.0581\n",
      "Epoch 3/30\n",
      "47/47 [==============================] - ETA: 0s - loss: 0.020 - 0s 3ms/step - loss: 0.0194\n",
      "Epoch 4/30\n",
      "47/47 [==============================] - 0s 3ms/step - loss: 0.0100\n",
      "Epoch 5/30\n",
      "47/47 [==============================] - 0s 3ms/step - loss: 0.0067\n",
      "Epoch 6/30\n",
      "47/47 [==============================] - 0s 3ms/step - loss: 0.0052\n",
      "Epoch 7/30\n",
      "47/47 [==============================] - 0s 3ms/step - loss: 0.0042\n",
      "Epoch 8/30\n",
      "47/47 [==============================] - 0s 3ms/step - loss: 0.0036\n",
      "Epoch 9/30\n",
      "47/47 [==============================] - 0s 3ms/step - loss: 0.0031\n",
      "Epoch 10/30\n",
      "47/47 [==============================] - 0s 3ms/step - loss: 0.0026\n",
      "Epoch 11/30\n",
      "47/47 [==============================] - 0s 3ms/step - loss: 0.0023\n",
      "Epoch 12/30\n",
      "47/47 [==============================] - 0s 3ms/step - loss: 0.0021\n",
      "Epoch 13/30\n",
      "47/47 [==============================] - 0s 3ms/step - loss: 0.0019\n",
      "Epoch 14/30\n",
      "47/47 [==============================] - 0s 3ms/step - loss: 0.0017\n",
      "Epoch 15/30\n",
      "47/47 [==============================] - 0s 3ms/step - loss: 0.0016\n",
      "Epoch 16/30\n",
      "47/47 [==============================] - 0s 3ms/step - loss: 0.0014\n",
      "Epoch 17/30\n",
      "47/47 [==============================] - 0s 4ms/step - loss: 0.0014\n",
      "Epoch 18/30\n",
      "47/47 [==============================] - 0s 3ms/step - loss: 0.0012\n",
      "Epoch 19/30\n",
      "47/47 [==============================] - 0s 3ms/step - loss: 0.0012\n",
      "Epoch 20/30\n",
      "47/47 [==============================] - 0s 3ms/step - loss: 0.0011\n",
      "Epoch 21/30\n",
      "47/47 [==============================] - 0s 3ms/step - loss: 0.0010\n",
      "Epoch 22/30\n",
      "47/47 [==============================] - 0s 3ms/step - loss: 9.6842e-04\n",
      "Epoch 23/30\n",
      "47/47 [==============================] - 0s 3ms/step - loss: 9.2114e-04\n",
      "Epoch 24/30\n",
      "47/47 [==============================] - 0s 3ms/step - loss: 8.7780e-04\n",
      "Epoch 25/30\n",
      "47/47 [==============================] - 0s 3ms/step - loss: 8.4239e-04\n",
      "Epoch 26/30\n",
      "47/47 [==============================] - 0s 3ms/step - loss: 8.0026e-04\n",
      "Epoch 27/30\n",
      "47/47 [==============================] - 0s 3ms/step - loss: 7.6221e-04\n",
      "Epoch 28/30\n",
      "47/47 [==============================] - 0s 4ms/step - loss: 7.3538e-04\n",
      "Epoch 29/30\n",
      "47/47 [==============================] - 0s 3ms/step - loss: 7.0087e-04\n",
      "Epoch 30/30\n",
      "47/47 [==============================] - 0s 3ms/step - loss: 6.7302e-04\n"
     ]
    },
    {
     "data": {
      "text/plain": [
       "<tensorflow.python.keras.callbacks.History at 0x1eda9a732b0>"
      ]
     },
     "execution_count": 7,
     "metadata": {},
     "output_type": "execute_result"
    }
   ],
   "source": [
    "#create model\n",
    "model = Sequential()\n",
    "\n",
    "#add model layers\n",
    "model.add(Conv2D(filters=16, kernel_size=5, activation='relu', input_shape=(28,28,1)))\n",
    "model.add(MaxPool2D(pool_size=2, strides=2))\n",
    "model.add(Flatten())\n",
    "model.add(Dense(len(classes), activation='softmax'))\n",
    "\n",
    "sgd_optimizer = optimizers.SGD(momentum=0.9)\n",
    "model.compile(optimizer=sgd_optimizer, loss='categorical_crossentropy')\n",
    "model.fit(XTrain, y_train, epochs=30)"
   ]
  },
  {
   "cell_type": "code",
   "execution_count": 8,
   "id": "instant-metropolitan",
   "metadata": {},
   "outputs": [
    {
     "name": "stdout",
     "output_type": "stream",
     "text": [
      "Accuracy = 0.9193333333333333\n"
     ]
    }
   ],
   "source": [
    "YPredict = np.argmax(model.predict(XTest),axis=1)\n",
    "# argmax reverses the one-hot encoding scheme\n",
    "\n",
    "accuracy = np.sum(YPredict == y_test_label)/len(y_test_label)\n",
    "print('Accuracy = {}'.format(accuracy))"
   ]
  },
  {
   "cell_type": "code",
   "execution_count": null,
   "id": "scheduled-chassis",
   "metadata": {},
   "outputs": [],
   "source": []
  }
 ],
 "metadata": {
  "kernelspec": {
   "display_name": "Python 3",
   "language": "python",
   "name": "python3"
  },
  "language_info": {
   "codemirror_mode": {
    "name": "ipython",
    "version": 3
   },
   "file_extension": ".py",
   "mimetype": "text/x-python",
   "name": "python",
   "nbconvert_exporter": "python",
   "pygments_lexer": "ipython3",
   "version": "3.8.5"
  }
 },
 "nbformat": 4,
 "nbformat_minor": 5
}
